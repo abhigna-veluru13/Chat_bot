{
  "cells": [
    {
      "cell_type": "markdown",
      "source": [
        "chatbot code"
      ],
      "metadata": {
        "id": "5cn8jCJxj_Qx"
      }
    },
    {
      "cell_type": "code",
      "source": [
        "# Install NLTK\n",
        "!pip install nltk\n",
        "\n",
        "# Import NLTK and download necessary resources\n",
        "import nltk\n",
        "nltk.download('punkt')\n",
        "nltk.download('averaged_perceptron_tagger')\n",
        "nltk.download('nps_chat')\n",
        "\n",
        "# Import necessary libraries\n",
        "from nltk.chat.util import Chat, reflections\n",
        "\n",
        "# Define response rules\n",
        "response_rules = [\n",
        "    (r\"hi|hello|hey\", [\"Hello!\", \"Hi there!\", \"Hey!\"]),\n",
        "    (r\"how are you?\", [\"I'm doing well, thank you!\", \"I'm good, thanks for asking.\"]),\n",
        "    (r\"what's your name?\", [\"I'm a chatbot!\", \"You can call me Chatbot.\"]),\n",
        "    (r\"bye|goodbye\", [\"Goodbye!\", \"See you later!\", \"Bye! Have a great day!\"]),\n",
        "]\n",
        "\n",
        "# Create a chatbot instance\n",
        "chatbot = Chat(response_rules, reflections)\n",
        "\n",
        "# Main loop\n",
        "print(\"Chatbot: Hi there! How can I help you today?\")\n",
        "while True:\n",
        "    user_input = input(\"You: \")\n",
        "    response = chatbot.respond(user_input)\n",
        "    print(\"Chatbot:\", response)"
      ],
      "metadata": {
        "id": "c8oyrdTL4L8f",
        "colab": {
          "base_uri": "https://localhost:8080/"
        },
        "outputId": "c33dd368-f57d-4d2e-de0d-91ac589f95ed"
      },
      "execution_count": null,
      "outputs": [
        {
          "output_type": "stream",
          "name": "stdout",
          "text": [
            "Requirement already satisfied: nltk in /usr/local/lib/python3.10/dist-packages (3.8.1)\n",
            "Requirement already satisfied: click in /usr/local/lib/python3.10/dist-packages (from nltk) (8.1.7)\n",
            "Requirement already satisfied: joblib in /usr/local/lib/python3.10/dist-packages (from nltk) (1.4.2)\n",
            "Requirement already satisfied: regex>=2021.8.3 in /usr/local/lib/python3.10/dist-packages (from nltk) (2024.5.15)\n",
            "Requirement already satisfied: tqdm in /usr/local/lib/python3.10/dist-packages (from nltk) (4.66.4)\n"
          ]
        },
        {
          "output_type": "stream",
          "name": "stderr",
          "text": [
            "[nltk_data] Downloading package punkt to /root/nltk_data...\n",
            "[nltk_data]   Package punkt is already up-to-date!\n",
            "[nltk_data] Downloading package averaged_perceptron_tagger to\n",
            "[nltk_data]     /root/nltk_data...\n",
            "[nltk_data]   Package averaged_perceptron_tagger is already up-to-\n",
            "[nltk_data]       date!\n",
            "[nltk_data] Downloading package nps_chat to /root/nltk_data...\n",
            "[nltk_data]   Package nps_chat is already up-to-date!\n"
          ]
        },
        {
          "output_type": "stream",
          "name": "stdout",
          "text": [
            "Chatbot: Hi there! How can I help you today?\n",
            "You: hi\n",
            "Chatbot: Hey!\n",
            "You: how are you/\n",
            "Chatbot: I'm good, thanks for asking.\n",
            "You: what's your name?\n",
            "Chatbot: I'm a chatbot!\n"
          ]
        }
      ]
    }
  ],
  "metadata": {
    "colab": {
      "provenance": []
    },
    "kernelspec": {
      "display_name": "Python 3",
      "name": "python3"
    },
    "language_info": {
      "name": "python"
    }
  },
  "nbformat": 4,
  "nbformat_minor": 0
}